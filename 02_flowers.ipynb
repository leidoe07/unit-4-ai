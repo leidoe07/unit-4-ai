{
 "cells": [
  {
   "attachments": {},
   "cell_type": "markdown",
   "metadata": {},
   "source": [
    "# Machine Learning with Flowers"
   ]
  },
  {
   "cell_type": "code",
   "execution_count": 26,
   "metadata": {},
   "outputs": [],
   "source": [
    "import os\n",
    "import pandas as pd\n",
    "import numpy as np\n",
    "import matplotlib.pyplot as plt\n",
    "\n",
    "import tensorflow as tf\n",
    "from tensorflow.keras.preprocessing.image import ImageDataGenerator\n",
    "from tensorflow.keras.applications.efficientnet import EfficientNetB3\n",
    "from tensorflow.keras import layers\n",
    "from tensorflow.keras.optimizers import Adamax\n",
    "\n",
    "from tensorflow.keras.callbacks import EarlyStopping, ReduceLROnPlateau"
   ]
  },
  {
   "cell_type": "code",
   "execution_count": 27,
   "metadata": {},
   "outputs": [
    {
     "name": "stdout",
     "output_type": "stream",
     "text": [
      "                                             file_path   label\n",
      "0       flower_photos/roses/16209331331_343c899d38.jpg   roses\n",
      "1        flower_photos/roses/5777669976_a205f61e5b.jpg   roses\n",
      "2      flower_photos/roses/4860145119_b1c3cbaa4e_n.jpg   roses\n",
      "3       flower_photos/roses/15011625580_7974c44bce.jpg   roses\n",
      "4     flower_photos/roses/17953368844_be3d18cf30_m.jpg   roses\n",
      "...                                                ...     ...\n",
      "3665     flower_photos/tulips/134143359_71fa8dd9a4.jpg  tulips\n",
      "3666    flower_photos/tulips/3637371174_a8dfcc1b35.jpg  tulips\n",
      "3667  flower_photos/tulips/6948239566_0ac0a124ee_n.jpg  tulips\n",
      "3668    flower_photos/tulips/2834890466_1cf220fba1.jpg  tulips\n",
      "3669   flower_photos/tulips/13953090784_0c7d7a904e.jpg  tulips\n",
      "\n",
      "[3670 rows x 2 columns]\n"
     ]
    }
   ],
   "source": [
    "#Prepping Data\n",
    "\n",
    "data =[]\n",
    "for dir,x,files in os.walk(\"flower_photos\"):\n",
    "    label= dir.split('/')[-1]\n",
    "    \n",
    "    for file in files:\n",
    "        path = os.path.join(dir,file)\n",
    "\n",
    "        data.append([path,label])\n",
    "\n",
    "df=pd.DataFrame(data,columns=[\"file_path\",\"label\"])\n",
    "print(df)"
   ]
  },
  {
   "cell_type": "code",
   "execution_count": 15,
   "metadata": {},
   "outputs": [],
   "source": [
    "datagen = ImageDataGenerator(\n",
    "    validation_split=0.2\n",
    ")"
   ]
  },
  {
   "cell_type": "code",
   "execution_count": 16,
   "metadata": {},
   "outputs": [
    {
     "name": "stdout",
     "output_type": "stream",
     "text": [
      "Found 2936 validated image filenames belonging to 5 classes.\n",
      "Found 734 validated image filenames belonging to 5 classes.\n"
     ]
    }
   ],
   "source": [
    "train_gen=datagen.flow_from_dataframe(\n",
    "    dataframe = df,\n",
    "    x_col='file_path',\n",
    "    y_col='label',\n",
    "    target_size=(224,224),\n",
    "    color_mode= 'rgb',\n",
    "    batch_size =32,\n",
    "    class_mode = 'categorical',\n",
    "    shuffle = True,\n",
    "    subset = 'training'\n",
    ")\n",
    "\n",
    "valid_gen=datagen.flow_from_dataframe(\n",
    "    dataframe = df,\n",
    "    x_col='file_path',\n",
    "    y_col='label',\n",
    "    target_size=(224,224),\n",
    "    color_mode= 'rgb',\n",
    "    batch_size =32,\n",
    "    class_mode = 'categorical',\n",
    "    shuffle = True,\n",
    "    subset = 'validation'\n",
    ")"
   ]
  },
  {
   "cell_type": "code",
   "execution_count": 19,
   "metadata": {},
   "outputs": [
    {
     "name": "stdout",
     "output_type": "stream",
     "text": [
      "Downloading data from https://storage.googleapis.com/keras-applications/efficientnetb3_notop.h5\n",
      "\u001b[1m43941136/43941136\u001b[0m \u001b[32m━━━━━━━━━━━━━━━━━━━━\u001b[0m\u001b[37m\u001b[0m \u001b[1m8s\u001b[0m 0us/step\n"
     ]
    }
   ],
   "source": [
    "base_model = EfficientNetB3(\n",
    "    include_top= False, \n",
    "    weights='imagenet',\n",
    "    input_shape=(224, 224, 3), \n",
    "    pooling='max'\n",
    ")\n",
    "\n",
    "model = tf.keras.models.Sequential([\n",
    "    base_model,\n",
    "    layers.BatchNormalization(),\n",
    "    layers.Dense(256, activation='relu'),\n",
    "    layers.Dropout(rate=.45, seed=123),\n",
    "    layers.Dense(5, activation='softmax')\n",
    "])\n",
    "\n",
    "\n",
    "model.compile(\n",
    "    Adamax(learning_rate= .0001), \n",
    "    loss = 'categorical_crossentropy',\n",
    "    metrics=[\n",
    "        'acc', \n",
    "        tf.keras.metrics.Precision(), \n",
    "        tf.keras.metrics.Recall(), \n",
    "        tf.keras.metrics.AUC()\n",
    "    ]\n",
    ")"
   ]
  },
  {
   "cell_type": "code",
   "execution_count": 28,
   "metadata": {},
   "outputs": [],
   "source": [
    "early_stopping= EarlyStopping(\n",
    "    patience=10,\n",
    "    min_delta=0,\n",
    "    monitor='val_loss',\n",
    "    verbose =0,\n",
    "    restore_best_weights=True,\n",
    "    baseline =None\n",
    "\n",
    ")"
   ]
  },
  {
   "cell_type": "code",
   "execution_count": 30,
   "metadata": {},
   "outputs": [
    {
     "name": "stdout",
     "output_type": "stream",
     "text": [
      "Epoch 1/5\n",
      "\u001b[1m92/92\u001b[0m \u001b[32m━━━━━━━━━━━━━━━━━━━━\u001b[0m\u001b[37m\u001b[0m \u001b[1m326s\u001b[0m 4s/step - acc: 0.7266 - auc: 0.9286 - loss: 0.7613 - precision: 0.7891 - recall: 0.6628 - val_acc: 0.1172 - val_auc: 0.4335 - val_loss: 3.6713 - val_precision: 0.1246 - val_recall: 0.1076\n",
      "Epoch 2/5\n",
      "\u001b[1m92/92\u001b[0m \u001b[32m━━━━━━━━━━━━━━━━━━━━\u001b[0m\u001b[37m\u001b[0m \u001b[1m322s\u001b[0m 3s/step - acc: 0.8420 - auc: 0.9738 - loss: 0.4513 - precision: 0.8806 - recall: 0.8027 - val_acc: 0.1199 - val_auc: 0.3965 - val_loss: 4.6180 - val_precision: 0.1193 - val_recall: 0.1104\n",
      "Epoch 3/5\n",
      "\u001b[1m92/92\u001b[0m \u001b[32m━━━━━━━━━━━━━━━━━━━━\u001b[0m\u001b[37m\u001b[0m \u001b[1m324s\u001b[0m 4s/step - acc: 0.8878 - auc: 0.9870 - loss: 0.3152 - precision: 0.9145 - recall: 0.8609 - val_acc: 0.1172 - val_auc: 0.3814 - val_loss: 5.0574 - val_precision: 0.1194 - val_recall: 0.1131\n",
      "Epoch 4/5\n",
      "\u001b[1m92/92\u001b[0m \u001b[32m━━━━━━━━━━━━━━━━━━━━\u001b[0m\u001b[37m\u001b[0m \u001b[1m315s\u001b[0m 3s/step - acc: 0.9198 - auc: 0.9938 - loss: 0.2251 - precision: 0.9418 - recall: 0.8988 - val_acc: 0.1172 - val_auc: 0.3753 - val_loss: 5.4247 - val_precision: 0.1223 - val_recall: 0.1158\n",
      "Epoch 5/5\n",
      "\u001b[1m92/92\u001b[0m \u001b[32m━━━━━━━━━━━━━━━━━━━━\u001b[0m\u001b[37m\u001b[0m \u001b[1m291s\u001b[0m 3s/step - acc: 0.9369 - auc: 0.9949 - loss: 0.1908 - precision: 0.9478 - recall: 0.9258 - val_acc: 0.1185 - val_auc: 0.3821 - val_loss: 5.8288 - val_precision: 0.1229 - val_recall: 0.1172\n"
     ]
    },
    {
     "data": {
      "text/plain": [
       "<keras.src.callbacks.history.History at 0x14953f3d0>"
      ]
     },
     "execution_count": 30,
     "metadata": {},
     "output_type": "execute_result"
    }
   ],
   "source": [
    "model.fit(\n",
    "    train_gen,\n",
    "    validation_data =valid_gen,\n",
    "    epochs = 5,\n",
    "    validation_steps =None,\n",
    "    shuffle = False,\n",
    "    callbacks=early_stopping,\n",
    "    verbose =1,\n",
    ")"
   ]
  },
  {
   "cell_type": "code",
   "execution_count": 32,
   "metadata": {},
   "outputs": [],
   "source": [
    "model.save('flowers.keras')"
   ]
  },
  {
   "cell_type": "code",
   "execution_count": 37,
   "metadata": {},
   "outputs": [
    {
     "name": "stdout",
     "output_type": "stream",
     "text": [
      "dict_items([('daisy', 0), ('dandelion', 1), ('roses', 2), ('sunflowers', 3), ('tulips', 4)])\n",
      "\u001b[1m1/1\u001b[0m \u001b[32m━━━━━━━━━━━━━━━━━━━━\u001b[0m\u001b[37m\u001b[0m \u001b[1m1s\u001b[0m 1s/step\n",
      "[[0.79082114 0.18642455 0.01476624 0.00478837 0.00319975]]\n",
      "Your Flower is a a  0\n"
     ]
    }
   ],
   "source": [
    "import cv2\n",
    "from tensorflow.keras.saving import load_model\n",
    "import numpy as np\n",
    "\n",
    "\n",
    "\n",
    "\n",
    "model = load_model(\"flowers.keras\")\n",
    "\n",
    "input_image = cv2.imread('flower_photos/roses/174109630_3c544b8a2f.jpg')\n",
    "\n",
    "input_image_resize = cv2.resize(input_image,(224,224))\n",
    "\n",
    "input_image_scaled =input_image_resize/225\n",
    "image_reshaped =np.reshape(input_image_scaled,[1,224,224,3])\n",
    "\n",
    "\n",
    "print(train_gen.class_indices.items())\n",
    "input_prediction = model.predict(image_reshaped)\n",
    "\n",
    "print(input_prediction)\n",
    "print(\"Your Flower is a a \",np.argmax(input_prediction))"
   ]
  },
  {
   "cell_type": "markdown",
   "metadata": {},
   "source": []
  }
 ],
 "metadata": {
  "kernelspec": {
   "display_name": "Python 3",
   "language": "python",
   "name": "python3"
  },
  "language_info": {
   "codemirror_mode": {
    "name": "ipython",
    "version": 3
   },
   "file_extension": ".py",
   "mimetype": "text/x-python",
   "name": "python",
   "nbconvert_exporter": "python",
   "pygments_lexer": "ipython3",
   "version": "3.10.8"
  },
  "orig_nbformat": 4,
  "vscode": {
   "interpreter": {
    "hash": "b0fa6594d8f4cbf19f97940f81e996739fb7646882a419484c72d19e05852a7e"
   }
  }
 },
 "nbformat": 4,
 "nbformat_minor": 2
}
